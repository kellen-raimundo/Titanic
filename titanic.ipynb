{
 "cells": [
  {
   "cell_type": "code",
   "id": "initial_id",
   "metadata": {
    "collapsed": true,
    "ExecuteTime": {
     "end_time": "2025-08-26T22:03:58.679733Z",
     "start_time": "2025-08-26T22:03:47.830909Z"
    }
   },
   "source": "import pandas as pd",
   "outputs": [],
   "execution_count": 2
  },
  {
   "metadata": {
    "ExecuteTime": {
     "end_time": "2025-08-26T22:47:01.032311Z",
     "start_time": "2025-08-26T22:47:01.028022Z"
    }
   },
   "cell_type": "code",
   "source": "import numpy as np",
   "id": "f237437e6a5b318b",
   "outputs": [],
   "execution_count": 4
  },
  {
   "metadata": {
    "ExecuteTime": {
     "end_time": "2025-08-26T22:47:25.360267Z",
     "start_time": "2025-08-26T22:47:23.865349Z"
    }
   },
   "cell_type": "code",
   "source": "import matplotlib.pyplot as plt",
   "id": "3cd0497b45c5819d",
   "outputs": [],
   "execution_count": 5
  },
  {
   "metadata": {
    "ExecuteTime": {
     "end_time": "2025-08-26T22:49:00.461220Z",
     "start_time": "2025-08-26T22:49:00.458168Z"
    }
   },
   "cell_type": "code",
   "source": "import seaborn as sns",
   "id": "612b120bf4911c13",
   "outputs": [],
   "execution_count": 9
  }
 ],
 "metadata": {
  "kernelspec": {
   "display_name": "Python 3",
   "language": "python",
   "name": "python3"
  },
  "language_info": {
   "codemirror_mode": {
    "name": "ipython",
    "version": 2
   },
   "file_extension": ".py",
   "mimetype": "text/x-python",
   "name": "python",
   "nbconvert_exporter": "python",
   "pygments_lexer": "ipython2",
   "version": "2.7.6"
  }
 },
 "nbformat": 4,
 "nbformat_minor": 5
}
